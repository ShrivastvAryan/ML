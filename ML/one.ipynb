{
 "cells": [
  {
   "cell_type": "code",
   "execution_count": 2,
   "id": "8cc26b08",
   "metadata": {},
   "outputs": [],
   "source": [
    "import pandas as pd\n",
    "import numpy as np\n",
    "\n",
    "#pd.read._json()\n"
   ]
  },
  {
   "cell_type": "code",
   "execution_count": 3,
   "id": "cead0c6d",
   "metadata": {},
   "outputs": [],
   "source": [
    "#Working with SQL database\n",
    "\n",
    "#import mysql.connector\n",
    "#conn=mysql.connector.connect(host=\"localhost\", user=\"root\", password=\"root\", database=\"testdb\")"
   ]
  },
  {
   "cell_type": "code",
   "execution_count": null,
   "id": "ef1d09c3",
   "metadata": {},
   "outputs": [],
   "source": [
    "#Web Scrapping\n"
   ]
  }
 ],
 "metadata": {
  "kernelspec": {
   "display_name": "Python 3",
   "language": "python",
   "name": "python3"
  },
  "language_info": {
   "codemirror_mode": {
    "name": "ipython",
    "version": 3
   },
   "file_extension": ".py",
   "mimetype": "text/x-python",
   "name": "python",
   "nbconvert_exporter": "python",
   "pygments_lexer": "ipython3",
   "version": "3.13.5"
  }
 },
 "nbformat": 4,
 "nbformat_minor": 5
}
